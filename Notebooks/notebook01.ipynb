{
 "cells": [
  {
   "cell_type": "code",
   "execution_count": 6,
   "metadata": {},
   "outputs": [],
   "source": [
    "import pandas as pd\n",
    "df = pd.read_csv('../Dataset/field-of-study-vs-ccupation.csv')\n"
   ]
  },
  {
   "cell_type": "code",
   "execution_count": 8,
   "metadata": {},
   "outputs": [],
   "source": [
    "maxrow = pd.options.display.max_rows\n",
    "maxcolumn = pd.options.display.max_columns"
   ]
  },
  {
   "cell_type": "code",
   "execution_count": 13,
   "metadata": {},
   "outputs": [
    {
     "name": "stdout",
     "output_type": "stream",
     "text": [
      "Max rows in the dataset: 60\n",
      "Max columns in the dataset: 20\n"
     ]
    }
   ],
   "source": [
    "print(f\"Max rows in the dataset: {maxrow}\\nMax columns in the dataset: {maxcolumn}\")"
   ]
  }
 ],
 "metadata": {
  "kernelspec": {
   "display_name": "major2career",
   "language": "python",
   "name": "python3"
  },
  "language_info": {
   "codemirror_mode": {
    "name": "ipython",
    "version": 3
   },
   "file_extension": ".py",
   "mimetype": "text/x-python",
   "name": "python",
   "nbconvert_exporter": "python",
   "pygments_lexer": "ipython3",
   "version": "3.13.0"
  }
 },
 "nbformat": 4,
 "nbformat_minor": 2
}
